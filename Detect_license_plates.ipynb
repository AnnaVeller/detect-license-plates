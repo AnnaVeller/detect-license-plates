{
  "nbformat": 4,
  "nbformat_minor": 0,
  "metadata": {
    "colab": {
      "name": "Detect_license_plates.ipynb",
      "provenance": [],
      "collapsed_sections": [],
      "authorship_tag": "ABX9TyOAmX63Vp1CEEYAkjUBZMtD",
      "include_colab_link": true
    },
    "kernelspec": {
      "name": "python3",
      "display_name": "Python 3"
    },
    "accelerator": "GPU"
  },
  "cells": [
    {
      "cell_type": "markdown",
      "metadata": {
        "id": "view-in-github",
        "colab_type": "text"
      },
      "source": [
        "<a href=\"https://colab.research.google.com/github/AnnaVeller/detect-license-plates/blob/master/Detect_license_plates.ipynb\" target=\"_parent\"><img src=\"https://colab.research.google.com/assets/colab-badge.svg\" alt=\"Open In Colab\"/></a>"
      ]
    },
    {
      "cell_type": "code",
      "metadata": {
        "id": "TuQALJRxlu1e",
        "colab_type": "code",
        "colab": {}
      },
      "source": [
        "!pip install asyncio"
      ],
      "execution_count": null,
      "outputs": []
    },
    {
      "cell_type": "code",
      "metadata": {
        "id": "P5jTZ8lxcd33",
        "colab_type": "code",
        "colab": {}
      },
      "source": [
        "!pip install cython\n",
        "!pip install matplotlib\n",
        "!pip install setuptools\n",
        "!pip install numpy\n",
        "!pip install Keras==2.2.*\n",
        "!pip install imgaug\n",
        "#!pip install tensorflow==1.15.2\n",
        "!pip install opencv_python\n",
        "!pip install imutils\n",
        "!pip install scikit_image\n",
        "!pip install jupyter\n",
        "\n",
        "!pip install GitPython\n",
        "!pip install pycocotools\n",
        "!pip install tqdm"
      ],
      "execution_count": null,
      "outputs": []
    },
    {
      "cell_type": "code",
      "metadata": {
        "id": "UXFvTsbkb6z4",
        "colab_type": "code",
        "colab": {}
      },
      "source": [
        "!pip install Nomeroff-net-gpu"
      ],
      "execution_count": null,
      "outputs": []
    },
    {
      "cell_type": "code",
      "metadata": {
        "id": "ejJrUR4meLY7",
        "colab_type": "code",
        "colab": {}
      },
      "source": [
        "!pip install mrcnn"
      ],
      "execution_count": null,
      "outputs": []
    },
    {
      "cell_type": "code",
      "metadata": {
        "id": "MaRuorCGm6Yl",
        "colab_type": "code",
        "colab": {}
      },
      "source": [
        "!pip install tensorflow-gpu==1.15.2"
      ],
      "execution_count": null,
      "outputs": []
    },
    {
      "cell_type": "code",
      "metadata": {
        "id": "lQYO0fgMfr0F",
        "colab_type": "code",
        "colab": {}
      },
      "source": [
        "import os\n",
        "import numpy as np\n",
        "import sys\n",
        "import matplotlib.image as mpimg\n",
        "from matplotlib import pyplot as plt"
      ],
      "execution_count": null,
      "outputs": []
    },
    {
      "cell_type": "code",
      "metadata": {
        "id": "cbAIAw7Vbb_R",
        "colab_type": "code",
        "colab": {}
      },
      "source": [
        "NOMEROFF_NET_DIR = os.path.abspath(\"/content/test\")\n",
        "MASK_RCNN_DIR = os.path.join(NOMEROFF_NET_DIR, 'Mask_RCNN')\n",
        "MASK_RCNN_LOG_DIR = os.path.join(NOMEROFF_NET_DIR, 'logs')\n",
        "sys.path.append(NOMEROFF_NET_DIR)\n",
        "from NomeroffNet import filters, RectDetector, TextDetector, OptionsDetector, Detector, textPostprocessing, textPostprocessingAsync\n",
        "\n",
        "# Initialize npdetector with default configuration file.\n",
        "nnet = Detector(MASK_RCNN_DIR, MASK_RCNN_LOG_DIR)\n",
        "nnet.loadModel(\"latest\")\n",
        "\n",
        "rectDetector = RectDetector()\n",
        "\n",
        "optionsDetector = OptionsDetector()\n",
        "optionsDetector.load(\"latest\")\n",
        "\n",
        "# Initialize text detector.\n",
        "textDetector = TextDetector.get_static_module(\"ru\")()\n",
        "textDetector.load(\"latest\")"
      ],
      "execution_count": null,
      "outputs": []
    },
    {
      "cell_type": "code",
      "metadata": {
        "id": "C2XnSA9300AD",
        "colab_type": "code",
        "colab": {}
      },
      "source": [
        "files = os.listdir(\"/content/test2\")\n",
        "files.sort()\n",
        "names = list(map(lambda x: os.path.splitext(x)[0], files))\n",
        "pic = list(map(lambda x: \"/content/test2/\" + x, files))\n",
        "print(pic)\n",
        "print(names)"
      ],
      "execution_count": null,
      "outputs": []
    },
    {
      "cell_type": "code",
      "metadata": {
        "id": "ntF7jvNybhG_",
        "colab_type": "code",
        "colab": {}
      },
      "source": [
        "right_detect = 0\n",
        "for i in range(len(pic)):\n",
        "    img_path = pic[i]\n",
        "    # Detect numberplate\n",
        "    img = mpimg.imread(img_path)\n",
        "    NP = nnet.detect([img])\n",
        "\n",
        "    # Generate image mask.\n",
        "    cv_img_masks = filters.cv_img_mask(NP)\n",
        "\n",
        "    # Detect points.\n",
        "    arrPoints = rectDetector.detect(cv_img_masks)\n",
        "    zones = rectDetector.get_cv_zonesBGR(img, arrPoints)\n",
        "\n",
        "    # find standart\n",
        "    regionIds, stateIds, countLines = optionsDetector.predict(zones)\n",
        "    regionNames = optionsDetector.getRegionLabels(regionIds)\n",
        "\n",
        "    # find text with postprocessing by standart\n",
        "    textArr = textDetector.predict(zones)\n",
        "    textArr = textPostprocessing(textArr, regionNames)\n",
        "    state = False\n",
        "    for k in range(len(textArr)):\n",
        "        if names[i] == textArr[k]:\n",
        "            state = True\n",
        "            right_detect = right_detect + 1\n",
        "    plt.axis(\"off\")\n",
        "    plt.imshow(img)\n",
        "    plt.show()\n",
        "    #print(arrPoints)\n",
        "    for zone, points in zip(zones, arrPoints):\n",
        "            plt.axis(\"off\")\n",
        "            plt.imshow(zone)\n",
        "            plt.show()  \n",
        "    print(\"real: \", names[i])\n",
        "    print(\"predict: \", textArr, state)\n",
        "    print('\\n\\n')"
      ],
      "execution_count": null,
      "outputs": []
    },
    {
      "cell_type": "code",
      "metadata": {
        "id": "SxOgckYvuemV",
        "colab_type": "code",
        "colab": {
          "base_uri": "https://localhost:8080/",
          "height": 102
        },
        "outputId": "6beb87eb-937b-40d1-8d15-28b8849efc27"
      },
      "source": [
        "print(\" right detect  | %d\\n ---------------------\\n all detect    | %d\\n ---------------------\\n right percent | %f\"\n",
        "%(right_detect,len(pic),right_detect/len(pic)*100),\"%\") "
      ],
      "execution_count": 62,
      "outputs": [
        {
          "output_type": "stream",
          "text": [
            " right detect  | 12\n",
            " ---------------------\n",
            " all detect    | 34\n",
            " ---------------------\n",
            " right percent | 35.294118 %\n"
          ],
          "name": "stdout"
        }
      ]
    }
  ]
}