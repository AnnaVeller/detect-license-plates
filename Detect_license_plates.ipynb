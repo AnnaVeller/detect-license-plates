{
  "nbformat": 4,
  "nbformat_minor": 0,
  "metadata": {
    "colab": {
      "name": "Detect_license_plates.ipynb",
      "provenance": [],
      "collapsed_sections": [],
      "toc_visible": true,
      "authorship_tag": "ABX9TyOIf3Iqh+9eZHSbhOAIRRbY",
      "include_colab_link": true
    },
    "kernelspec": {
      "name": "python3",
      "display_name": "Python 3"
    },
    "accelerator": "GPU"
  },
  "cells": [
    {
      "cell_type": "markdown",
      "metadata": {
        "id": "view-in-github",
        "colab_type": "text"
      },
      "source": [
        "<a href=\"https://colab.research.google.com/github/AnnaVeller/detect-license-plates/blob/master/Detect_license_plates.ipynb\" target=\"_parent\"><img src=\"https://colab.research.google.com/assets/colab-badge.svg\" alt=\"Open In Colab\"/></a>"
      ]
    },
    {
      "cell_type": "markdown",
      "metadata": {
        "id": "72zLyAqmY6zx",
        "colab_type": "text"
      },
      "source": [
        "### Загрузка всееееего необходимого\n",
        "\n"
      ]
    },
    {
      "cell_type": "code",
      "metadata": {
        "id": "TuQALJRxlu1e",
        "colab_type": "code",
        "colab": {}
      },
      "source": [
        "!pip install asyncio"
      ],
      "execution_count": null,
      "outputs": []
    },
    {
      "cell_type": "code",
      "metadata": {
        "id": "P5jTZ8lxcd33",
        "colab_type": "code",
        "colab": {}
      },
      "source": [
        "!pip install cython\n",
        "!pip install matplotlib\n",
        "!pip install setuptools\n",
        "!pip install numpy\n",
        "!pip install Keras==2.2.*\n",
        "!pip install imgaug\n",
        "#!pip install tensorflow==1.15.2\n",
        "!pip install tensorflow-gpu==1.15.2\n",
        "!pip install opencv_python\n",
        "!pip install imutils\n",
        "!pip install scikit_image\n",
        "!pip install jupyter\n",
        "\n",
        "!pip install GitPython\n",
        "!pip install pycocotools\n",
        "!pip install tqdm"
      ],
      "execution_count": null,
      "outputs": []
    },
    {
      "cell_type": "code",
      "metadata": {
        "id": "UXFvTsbkb6z4",
        "colab_type": "code",
        "colab": {}
      },
      "source": [
        "!pip install Nomeroff-net-gpu"
      ],
      "execution_count": null,
      "outputs": []
    },
    {
      "cell_type": "code",
      "metadata": {
        "id": "ejJrUR4meLY7",
        "colab_type": "code",
        "colab": {}
      },
      "source": [
        "!pip install mrcnn"
      ],
      "execution_count": null,
      "outputs": []
    },
    {
      "cell_type": "code",
      "metadata": {
        "id": "lQYO0fgMfr0F",
        "colab_type": "code",
        "colab": {}
      },
      "source": [
        "import os\n",
        "import numpy as np\n",
        "import sys\n",
        "import matplotlib.image as mpimg\n",
        "from matplotlib import pyplot as plt\n",
        "import cv2\n",
        "from google.colab.patches import cv2_imshow"
      ],
      "execution_count": 5,
      "outputs": []
    },
    {
      "cell_type": "code",
      "metadata": {
        "id": "cbAIAw7Vbb_R",
        "colab_type": "code",
        "colab": {}
      },
      "source": [
        "NOMEROFF_NET_DIR = os.path.abspath(\"/content/\")\n",
        "MASK_RCNN_DIR = os.path.join(NOMEROFF_NET_DIR, 'Mask_RCNN')\n",
        "MASK_RCNN_LOG_DIR = os.path.join(NOMEROFF_NET_DIR, 'logs')\n",
        "sys.path.append(NOMEROFF_NET_DIR)\n",
        "from NomeroffNet import filters, RectDetector, TextDetector, OptionsDetector, Detector, textPostprocessing, textPostprocessingAsync\n",
        "\n",
        "# Initialize npdetector with default configuration file.\n",
        "nnet = Detector(MASK_RCNN_DIR, MASK_RCNN_LOG_DIR)\n",
        "nnet.loadModel(\"latest\")\n",
        "\n",
        "rectDetector = RectDetector()\n",
        "\n",
        "optionsDetector = OptionsDetector()\n",
        "optionsDetector.load(\"latest\")\n",
        "\n",
        "# Initialize text detector.\n",
        "textDetector = TextDetector.get_static_module(\"ru\")()\n",
        "textDetector.load(\"latest\")"
      ],
      "execution_count": null,
      "outputs": []
    },
    {
      "cell_type": "code",
      "metadata": {
        "id": "N-eYZjw4Y1gk",
        "colab_type": "code",
        "colab": {}
      },
      "source": [
        "stroka = \"\"\"01\tРеспублика Адыгея\t\n",
        "02\tРеспублика Башкортостан\t\n",
        "03\tРеспублика Бурятия\t\n",
        "04\tРеспублика Алтай\t\n",
        "05\tРеспублика Дагестан\t\n",
        "06\tРеспублика Ингушетия\t\n",
        "07\tКабардино-Балкарская Республика\t\n",
        "08\tРеспублика Калмыкия\t\n",
        "09\tКарачаево-Черкесская Республика\t\n",
        "10\tРеспублика Карелия\t\n",
        "11\tРеспублика Коми\t\n",
        "12\tРеспублика Марий-Эл\t\n",
        "13\tРеспублика Мордовия\t\n",
        "14\tРеспублика Саха-Якутия\t\n",
        "15\tРеспублика Северная Осетия-Алания\t\n",
        "16\tРеспублика Татарстан\t\n",
        "17\tРеспублика Тува\t\n",
        "18\tУдмуртская Республика\t\n",
        "19\tРеспублика Хакасия\t\n",
        "20\tЧеченская Республика\tВ 2000 году все номера заменили на новые с кодом 95\n",
        "21\tЧувашская Республика\t\n",
        "22\tАлтайский край\t\n",
        "23\tКраснодарский край\t\n",
        "24\tКрасноярский край\t\n",
        "25\tПриморский край\t\n",
        "26\tСтавропольский край\t\n",
        "27\tХабаровский край\t\n",
        "28\tАмурская область\t\n",
        "29\tАрхангельская область\t\n",
        "30\tАстраханская область\t\n",
        "31\tБелгородская область\t\n",
        "32\tБрянская область\t\n",
        "33\tВладимирская область\t\n",
        "34\tВолгоградская область\t\n",
        "35\tВологодская область\t\n",
        "36\tВоронежская область\t\n",
        "37\tИвановская область\t\n",
        "38\tИркутская область\t\n",
        "39\tКалининградская область\t\n",
        "40\tКалужская область\t\n",
        "41\tКамчатский край\tдо 2007 года — Камчатская область\n",
        "42\tКемеровская область\t\n",
        "43\tКировская область\t\n",
        "44\tКостромская область\t\n",
        "45\tКурганская область\t\n",
        "46\tКурская область\t\n",
        "47\tЛенинградская область\t\n",
        "48\tЛипецкая область\t\n",
        "49\tМагаданская область\t\n",
        "50\tМосковская область\t\n",
        "51\tМурманская область\t\n",
        "52\tНижегородская область\t\n",
        "53\tНовгородская область\t\n",
        "54\tНовосибирская область\t\n",
        "55\tОмская область\t\n",
        "56\tОренбургская область\t\n",
        "57\tОрловская область\t\n",
        "58\tПензенская область\t\n",
        "59\tПермский край\tдо 2005 года — Пермская область\n",
        "60\tПсковская область\t\n",
        "61\tРостовская область\t\n",
        "62\tРязанская область\t\n",
        "63\tСамарская область\t\n",
        "64\tСаратовская область\t\n",
        "65\tСахалинская область\t\n",
        "66\tСвердловская область\t\n",
        "67\tСмоленская область\t\n",
        "68\tТамбовская область\t\n",
        "69\tТверская область\t\n",
        "70\tТомская область\t\n",
        "71\tТульская область\t\n",
        "72\tТюменская область\t\n",
        "73\tУльяновская область\t\n",
        "74\tЧелябинская область\t\n",
        "75\tЗабайкальский край\tдо 2008 года — Читинская область\n",
        "76\tЯрославская область\t\n",
        "77\tМосква\t\n",
        "78\tСанкт-Петербург\t\n",
        "79\tЕврейская автономная область\t\n",
        "80\tбывший Агинский Бурятский автономный округ\tс 2008 года в составе Забайкальского края\n",
        "81\tбывший Коми-Пермяцкий автономный округ\tс 2005 года в составе Пермского края\n",
        "82\tРеспублика Крым\tс 2014 года, до 2007 года номера выдавались в Корякском автономном округе\n",
        "83\tНенецкий автономный округ\t\n",
        "84\tбывший Таймырский автономный округ\tс 2007 года в составе Красноярского края\n",
        "85\tбывший Усть-Ордынский Бурятский автономный округ\tс 2008 года в составе Иркутской области\n",
        "86\tХанты-Мансийский автономный округ\t\n",
        "87\tЧукотский автономный округ\t\n",
        "88\tбывший Эвенкийский автономный округ\tс 2007 года в составе Красноярского края\n",
        "89\tЯмало-Ненецкий автономный округ\t\n",
        "90\tМосковская область\tс 2001 года\n",
        "91\tКалининградская область\tкод используется только на экспортных транзитных номерах\n",
        "92\tСевастополь\tс 2014 года\n",
        "93\tКраснодарский край\tс 2005 года\n",
        "94\tБайконур\tтерритории, находящиеся за пределами РФ\n",
        "95\tЧеченская республика\tс 2000 года\n",
        "96\tСвердловская область\tс 2006 года\n",
        "97\tМосква\tс 2002 года\n",
        "98\tСанкт-Петербург\tс 2004 года\n",
        "99\tМосква\tс 1998 года\n",
        "102\tРеспублика Башкортостан\tс 2006 года\n",
        "113\tРеспублика Мордовия\tс 2009 года\n",
        "116\tРеспублика Татарстан\tс 2006 года\n",
        "121\tЧувашская Республика\tс 2008 года\n",
        "122\tАлтайский край\tс 2019 года\n",
        "123\tКраснодарский край\tс 2011 года\n",
        "124\tКрасноярский край\tс 2009 года\n",
        "125\tПриморский край\tс 2005 года\n",
        "126\tСтавропольский край\tс 2013 года\n",
        "134\tВолгоградская область\tс 2012 года\n",
        "136\tВоронежская область\tс 2010 года\n",
        "138\tИркутская область\tс 2013 года\n",
        "142\tКемеровская область\tс 2011 года\n",
        "147\tЛенинградская область\tс 2019 года\n",
        "150\tМосковская область\tс 2006 года\n",
        "152\tНижегородская область\tс 2009 года\n",
        "154\tНовосибирская область\tс 2010 года\n",
        "156\tОренбургская область\tс 2020 года\n",
        "159\tПермский край\tс 2007 года\n",
        "161\tРостовская область\tс 2007 года\n",
        "163\tСамарская область\tс 2006 года\n",
        "164\tСаратовская область\tс 2005 года\n",
        "173\tУльяновская область\tс 2007 года\n",
        "174\tЧелябинская область\tс 2007 года\n",
        "177\tМосква\tс 2005 года\n",
        "178\tСанкт-Петербург\tс 2010 года\n",
        "186\tХанты-Мансийский автономный округ\tс 2012 года\n",
        "190\tМосковская область\tс 2009 года\n",
        "193\tКраснодарский край\tс 2019 года\n",
        "196\tСвердловская область\tс 2013 года\n",
        "197\tМосква\tс 2010 года\n",
        "198\tСанкт-Петербург\tс 2018 года\n",
        "199\tМосква\tс 2007 года\n",
        "702\tРеспублика Башкортостан\tс 2019 года\n",
        "750\tМосковская область\tс 2013 года\n",
        "716\tРеспублика Татарстан\tс 2017 года\n",
        "761\tРостовская область\tс 2019 года\n",
        "763\tСамарская область\tс 2017 года\n",
        "774\tЧелябинская область\tс 2020 года\n",
        "777\tМосква\tс 2013 года\n",
        "790\tМосковская область\tс 2020 года\n",
        "797\tМосква\tс 2020 года\n",
        "799\tМосква\"\"\""
      ],
      "execution_count": 7,
      "outputs": []
    },
    {
      "cell_type": "code",
      "metadata": {
        "id": "AaG01MyVy2k6",
        "colab_type": "code",
        "colab": {}
      },
      "source": [
        "str2 = stroka.split('\\n')\n",
        "all_region = []\n",
        "for reg in str2:\n",
        "  tmp = reg.split('\\t')\n",
        "  all_region.append(tmp[0])"
      ],
      "execution_count": 29,
      "outputs": []
    },
    {
      "cell_type": "code",
      "metadata": {
        "id": "ntF7jvNybhG_",
        "colab_type": "code",
        "colab": {}
      },
      "source": [
        "def detect_number(img, name):\n",
        "  NP = nnet.detect([img])\n",
        "\n",
        "  # Generate image mask.\n",
        "  cv_img_masks = filters.cv_img_mask(NP)\n",
        "\n",
        "  # Detect points.\n",
        "  arrPoints = rectDetector.detect(cv_img_masks)\n",
        "  zones = rectDetector.get_cv_zonesBGR(img, arrPoints)\n",
        "\n",
        "  # find standart\n",
        "  regionIds, stateIds, countLines = optionsDetector.predict(zones)\n",
        "  regionNames = optionsDetector.getRegionLabels(regionIds)\n",
        "\n",
        "  # find text with postprocessing by standart\n",
        "  textArr = textDetector.predict(zones)\n",
        "  textArr = textPostprocessing(textArr, regionNames)\n",
        "  \n",
        "  state = False   # нашли ли номер?\n",
        "  status = False    # совпадает ли с данным\n",
        "  if len(textArr) > 0:\n",
        "    state = True\n",
        "    for number in textArr:\n",
        "        if name == number:\n",
        "            status = True\n",
        "    #plt.axis(\"off\")\n",
        "    #plt.imshow(img)\n",
        "    #plt.show()\n",
        "    #for zone, points in zip(zones, arrPoints):\n",
        "            #plt.axis(\"off\")\n",
        "            #plt.imshow(zone)\n",
        "            #plt.show()  \n",
        "    #print(\" real: \", name, '\\n', \"predict: \", textArr, status, '\\n')\n",
        "    \n",
        "  return state, textArr, status"
      ],
      "execution_count": 85,
      "outputs": []
    },
    {
      "cell_type": "markdown",
      "metadata": {
        "id": "HrF8xtOhYQyS",
        "colab_type": "text"
      },
      "source": [
        "### Загрузка изображений или видео"
      ]
    },
    {
      "cell_type": "code",
      "metadata": {
        "id": "8O2Iog2ajST9",
        "colab_type": "code",
        "colab": {}
      },
      "source": [
        "#pic.append('/content/test/H388PY123.MOV')\n",
        "#pic.append('/content/test/H755XC93.MOV')\n",
        "#pic.append('/content/test/HH093960.MOV')\n",
        "#names.append('BB843260')\n",
        "#names.append('H388PY123')\n",
        "#names.append('H755XC93')\n",
        "#names.append('HH093960')"
      ],
      "execution_count": 98,
      "outputs": []
    },
    {
      "cell_type": "code",
      "metadata": {
        "id": "txA7BGBJbXI0",
        "colab_type": "code",
        "colab": {}
      },
      "source": [
        "!rm -rf /content/test   # не забывать где мы находимся\n",
        "!mkdir test\n",
        "%cd test/\n",
        "from google.colab import files\n",
        "uploaded = files.upload()\n",
        "pic = []\n",
        "names = []\n",
        "for fn in uploaded.keys():\n",
        "  print('User uploaded file «{name}» with length {length} bytes'.format(\n",
        "  name=fn, length=len(uploaded[fn])))\n",
        "  pic.append(\"/content/test/\" + fn)\n",
        "  names.append(fn.split('.')[0])\n",
        "  #names.append('A088KK60')\n",
        "%cd ../ "
      ],
      "execution_count": null,
      "outputs": []
    },
    {
      "cell_type": "code",
      "metadata": {
        "id": "vGTph-PGc66c",
        "colab_type": "code",
        "colab": {}
      },
      "source": [
        "predict_list = []\n",
        "right_detect = 0\n",
        "detect = 0\n",
        "graph_y = []\n",
        "graph_x = []\n",
        "\n",
        "video_path = pic[1] #временно\n",
        "name = names[1] #временно берем 1 видео, которое загрузилось первым\n",
        "video = cv2.VideoCapture(video_path)\n",
        "flag = video.set(cv2.CAP_PROP_FPS, 8) #не работает тут\n",
        "#print(flag)\n",
        "\n",
        "all_count = 0\n",
        "x = 0\n",
        "\n",
        "while(True):\n",
        "  ret, frame = video.read()\n",
        "  print(\"файл открылся: \", ret)\n",
        "  if not ret:\n",
        "    break\n",
        "  #img = mpimg.imread(pic[i]) #если есть только пути, а не фото в массиве pic\n",
        "  lst = []\n",
        "  state, lst, status = detect_number(frame, name)   #нашли номер, массив найденных номеров, совпадает ли \n",
        "  predict_list.extend(lst)\n",
        "  graph_x.append(x)\n",
        "  x += 1\n",
        "  if state == True:\n",
        "    detect += 1\n",
        "    if status == True:\n",
        "      right_detect += 1 \n",
        "      graph_y.append(1) \n",
        "    else:\n",
        "      graph_y.append(0.5)\n",
        "  else:\n",
        "    graph_y.append(-1)\n",
        "  all_count += 1\n",
        "print(predict_list)"
      ],
      "execution_count": null,
      "outputs": []
    },
    {
      "cell_type": "markdown",
      "metadata": {
        "id": "ul9SWwFiJ2UO",
        "colab_type": "text"
      },
      "source": [
        "***График правильности***\n",
        "* Ось y: вверх - распознало номер, еще в верх - правильно, вниз - неправильно\n",
        "* Ось x: номер стоп-кадра\n",
        "\n",
        "\n",
        "\n",
        "\n"
      ]
    },
    {
      "cell_type": "code",
      "metadata": {
        "id": "Ti69OLfwHJX2",
        "colab_type": "code",
        "colab": {}
      },
      "source": [
        "plt.bar(graph_x, graph_y)\n",
        "plt.show()"
      ],
      "execution_count": null,
      "outputs": []
    },
    {
      "cell_type": "code",
      "metadata": {
        "id": "y94bXrFzz_Hp",
        "colab_type": "code",
        "colab": {}
      },
      "source": [
        "print( \n",
        "\"\"\" \n",
        " всего изображений     | %d\n",
        " ---------------------\n",
        " найдено номеров       | %d\n",
        " ---------------------\n",
        " определенно правильно | %d\n",
        " ---------------------\n",
        " процент правильности  | %f %%\n",
        " ---------------------\n",
        " процент правильно     |\n",
        " детектированных       |%f %%\n",
        " из найденных          |\n",
        "\"\"\"\n",
        "%(\n",
        "  all_count,\n",
        "  detect,\n",
        "  right_detect,\n",
        "  right_detect/all_count*100,\n",
        "  right_detect/detect*100\n",
        "  ))"
      ],
      "execution_count": null,
      "outputs": []
    },
    {
      "cell_type": "markdown",
      "metadata": {
        "id": "VDlRYV64Wu6b",
        "colab_type": "text"
      },
      "source": [
        "#### **Регистрационные знаки легковых, грузовых автомобилей и автобусов**\n",
        "\n",
        "\n",
        "![image.png](data:image/png;base64,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)"
      ]
    },
    {
      "cell_type": "markdown",
      "metadata": {
        "id": "xCo5LDcMBM1t",
        "colab_type": "text"
      },
      "source": [
        "#### **Регистрационные знаки для автомобильных прицепов и полуприцепов**\n",
        "\n",
        "\n",
        "![image.png](data:image/png;base64,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)"
      ]
    },
    {
      "cell_type": "markdown",
      "metadata": {
        "id": "0AUpgl6vV_ft",
        "colab_type": "text"
      },
      "source": [
        "\n",
        "### **Модуль для убирания заранее неподходящих номеров**  \n",
        "*Номера отбрасываются, если они не подходят под правила*\n",
        "\n",
        "\n",
        "#### **Правила для легковых, грузовых автомобилей и автобусов**:\n",
        "*   Длина = 8 или 9\n",
        "*   Первый, пятый, шестой символ - буквы\n",
        "*   Второй, третий, четвертый - цифры\n",
        "*   Последние три или два символа - регион, должны быть в списке регионов России \n",
        "\n"
      ]
    },
    {
      "cell_type": "code",
      "metadata": {
        "id": "SxOgckYvuemV",
        "colab_type": "code",
        "colab": {}
      },
      "source": [
        "import collections\n",
        "c = collections.Counter()\n",
        "for word in predict_list:\n",
        "  c[word] += 1\n",
        "ans = []\n",
        "for num in list(c.most_common()):\n",
        "  tmp = list(num[0])\n",
        "  if len(tmp)==8 or len(tmp)==9:\n",
        "    tmp_num = tmp[1:4]\n",
        "    tmp_region = tmp[6:]\n",
        "    tmp_literal = [tmp[0]]\n",
        "    tmp_literal.extend(tmp[4:6])                            \n",
        "    tmp_num = ''.join(map(str, tmp_num))    # должно быть числом\n",
        "    tmp_region = ''.join(map(str, tmp_region))    # должно быть числом\n",
        "    tmp_literal = ''.join(map(str, tmp_literal))    # должно быть буквами\n",
        "    if tmp_num.isdigit() and tmp_literal.isalpha() and tmp_region.isdigit():\n",
        "      if tmp_region in all_region:\n",
        "        ans.append(num[0])        \n",
        "\n",
        "tmp_list = []   # список найденных номеров - неподходящие по правилам\n",
        "all_numbers = collections.Counter()\n",
        "for num in predict_list:\n",
        "  if num in ans:\n",
        "    all_numbers[num] += 1 \n",
        "    tmp_list.append(num)\n",
        "\n",
        "\n",
        "r = list(map(lambda x: x[6:], tmp_list))\n",
        "fl = list(map(lambda x: x[0], tmp_list))\n",
        "sl = list(map(lambda x: x[4], tmp_list))\n",
        "tl = list(map(lambda x: x[5], tmp_list))\n",
        "fn = list(map(lambda x: x[1], tmp_list))\n",
        "sn = list(map(lambda x: x[2], tmp_list))\n",
        "tn = list(map(lambda x: x[3], tmp_list))\n",
        "\n",
        "region = collections.Counter()\n",
        "first_lit = collections.Counter()\n",
        "second_lit = collections.Counter()\n",
        "third_lit = collections.Counter()\n",
        "first_num = collections.Counter()\n",
        "second_num = collections.Counter()\n",
        "third_num = collections.Counter()\n",
        "\n",
        "for i in r:\n",
        "  region[i] += 1\n",
        "for i in fl:\n",
        "  first_lit[i] += 1\n",
        "for i in sl:\n",
        "  second_lit[i] += 1\n",
        "for i in tl:\n",
        "  third_lit[i] += 1\n",
        "for i in fn:\n",
        "  first_num[i] += 1\n",
        "for i in sn:\n",
        "  second_num[i] += 1\n",
        "for i in tn:\n",
        "  third_num[i] += 1\n",
        "\n",
        "detect_region = region.most_common(1)[0][0]\n",
        "detect_first_lit = first_lit.most_common(1)[0][0]\n",
        "detect_second_lit = second_lit.most_common(1)[0][0]\n",
        "detect_third_lit = third_lit.most_common(1)[0][0]\n",
        "detect_first_num = first_num.most_common(1)[0][0]\n",
        "detect_second_num = second_num.most_common(1)[0][0]\n",
        "detect_third_num = third_num.most_common(1)[0][0]\n",
        "\n",
        "\n",
        "print('Варианты и кол-во')\n",
        "print(first_lit.most_common())\n",
        "print(first_num.most_common())\n",
        "print(second_num.most_common())\n",
        "print(third_num.most_common())\n",
        "print(second_lit.most_common())\n",
        "print(third_lit.most_common())\n",
        "print(region.most_common(), '\\n')\n",
        "\n",
        "print(\"Список встречаемых номеров и их кол-во:\")\n",
        "print(list(c.most_common()), '\\n')\n",
        "print('Список подходящих номеров:')\n",
        "print(list(all_numbers.most_common()), '\\n')\n",
        "print('ПРЕДПОЛАГАЕМЫЙ ОТВЕТ: ', detect_first_lit, detect_first_num, detect_second_num , \n",
        "      detect_third_num, detect_second_lit, detect_third_lit, detect_region, sep='')\n",
        "print(\"правильный ответ: \", name)"
      ],
      "execution_count": null,
      "outputs": []
    },
    {
      "cell_type": "code",
      "metadata": {
        "id": "YoNhn1I-RIjr",
        "colab_type": "code",
        "colab": {}
      },
      "source": [
        ""
      ],
      "execution_count": null,
      "outputs": []
    },
    {
      "cell_type": "code",
      "metadata": {
        "id": "jx_iRo_YRItL",
        "colab_type": "code",
        "colab": {}
      },
      "source": [
        ""
      ],
      "execution_count": null,
      "outputs": []
    },
    {
      "cell_type": "code",
      "metadata": {
        "id": "Ql1UnVuoRIys",
        "colab_type": "code",
        "colab": {}
      },
      "source": [
        ""
      ],
      "execution_count": null,
      "outputs": []
    },
    {
      "cell_type": "code",
      "metadata": {
        "id": "lWxF6XS6RI1i",
        "colab_type": "code",
        "colab": {}
      },
      "source": [
        ""
      ],
      "execution_count": null,
      "outputs": []
    },
    {
      "cell_type": "markdown",
      "metadata": {
        "id": "jDOV4gbBgY9o",
        "colab_type": "text"
      },
      "source": [
        "### **КОД СРАЗУ ДЛЯ ВСЕХ ФАЙЛОВ**"
      ]
    },
    {
      "cell_type": "code",
      "metadata": {
        "colab_type": "code",
        "id": "IGII-mrhRJaE",
        "colab": {
          "base_uri": "https://localhost:8080/",
          "height": 1000
        },
        "outputId": "8a173ac6-9fc0-4b5b-8f8a-b9cb096e99ee"
      },
      "source": [
        "result_right_detect_count = 0\n",
        "result_wrong_detect_count = 0\n",
        "non_detected = 0\n",
        "\n",
        "for q in range(len(pic)):\n",
        "  video_path = pic[q]\n",
        "  name = names[q]\n",
        "  predict_list = []\n",
        "  right_detect = 0\n",
        "  detect = 0\n",
        "  graph_y = []\n",
        "  graph_x = []\n",
        "\n",
        "  video = cv2.VideoCapture(video_path)\n",
        "  flag = video.set(cv2.CAP_PROP_FPS, 8) #не работает тут\n",
        "  #print(flag)\n",
        "\n",
        "  all_count = 0\n",
        "  x = 0\n",
        "\n",
        "  while(True):\n",
        "    ret, frame = video.read()\n",
        "    #print(\"файл открылся: \", ret)\n",
        "    if not ret:\n",
        "      break\n",
        "    #img = mpimg.imread(pic[i]) #если есть только пути, а не фото в массиве pic\n",
        "    lst = []\n",
        "    state, lst, status = detect_number(frame, name)   #нашли номер, массив найденных номеров, совпадает ли \n",
        "    predict_list.extend(lst)\n",
        "    graph_x.append(x)\n",
        "    x += 1\n",
        "    if state == True:\n",
        "      detect += 1\n",
        "      if status == True:\n",
        "        right_detect += 1 \n",
        "        graph_y.append(1) \n",
        "      else:\n",
        "        graph_y.append(0.5)\n",
        "    else:\n",
        "      graph_y.append(-1)\n",
        "    all_count += 1\n",
        "  #print(predict_list)\n",
        "\n",
        "  print(pic[q])\n",
        "  plt.bar(graph_x, graph_y)\n",
        "  plt.show()\n",
        "\n",
        "  if detect == 0:\n",
        "    print(\"НЕ НАШЛИ НОМЕРОВ\\n\\n\")\n",
        "    non_detected += 1\n",
        "  else:\n",
        "    print( \n",
        "  \"\"\" \n",
        "  всего изображений     | %d\n",
        "  ---------------------\n",
        "  найдено номеров       | %d\n",
        "  ---------------------\n",
        "  определенно правильно | %d\n",
        "  ---------------------\n",
        "  процент правильности  | %f %%\n",
        "  ---------------------\n",
        "  процент правильно     |\n",
        "  детектированных       | %f %%\n",
        "  из найденных          |\n",
        "  \"\"\"\n",
        "  %(\n",
        "    all_count,\n",
        "    detect,\n",
        "    right_detect,\n",
        "    right_detect/all_count*100,\n",
        "    right_detect/detect*100\n",
        "    ))\n",
        "\n",
        "\n",
        "\n",
        "    import collections\n",
        "    c = collections.Counter()\n",
        "    for word in predict_list:\n",
        "      c[word] += 1\n",
        "    ans = []\n",
        "    for num in list(c.most_common()):\n",
        "      tmp = list(num[0])\n",
        "      if len(tmp)==8 or len(tmp)==9:\n",
        "        tmp_num = tmp[1:4]\n",
        "        tmp_region = tmp[6:]\n",
        "        tmp_literal = [tmp[0]]\n",
        "        tmp_literal.extend(tmp[4:6])                            \n",
        "        tmp_num = ''.join(map(str, tmp_num))    # должно быть числом\n",
        "        tmp_region = ''.join(map(str, tmp_region))    # должно быть числом\n",
        "        tmp_literal = ''.join(map(str, tmp_literal))    # должно быть буквами\n",
        "\n",
        "        tmp_lit_truck = tmp[0:2]\n",
        "        tmp_num_truck = tmp[2:6]\n",
        "        tmp_lit_truck = ''.join(map(str, tmp_lit_truck))    # должно быть числом\n",
        "        tmp_num_truck = ''.join(map(str, tmp_num_truck))    # должно быть буквами\n",
        "        if (tmp_num.isdigit() and tmp_literal.isalpha() and tmp_region.isdigit()) or (tmp_lit_truck.isalpha() and tmp_num_truck.isdigit()):\n",
        "          if tmp_region in all_region:\n",
        "            ans.append(num[0])        \n",
        "\n",
        "    if len(ans) == 0:\n",
        "      print(c.most_common())\n",
        "      result_wrong_detect_count += 1\n",
        "      print('НОМЕР НЕ СООТВЕТСВУЕТ ГОСТУ легковых автомобилей\\n\\n')\n",
        "    else:\n",
        "\n",
        "      tmp_list = []   # список найденных номеров - неподходящие по правилам\n",
        "      all_numbers = collections.Counter()\n",
        "      for num in predict_list:\n",
        "        if num in ans:\n",
        "          all_numbers[num] += 1 \n",
        "          tmp_list.append(num)\n",
        "\n",
        "\n",
        "      r = list(map(lambda x: x[6:], tmp_list))\n",
        "      fl = list(map(lambda x: x[0], tmp_list))\n",
        "      sl = list(map(lambda x: x[4], tmp_list))\n",
        "      tl = list(map(lambda x: x[5], tmp_list))\n",
        "      fn = list(map(lambda x: x[1], tmp_list))\n",
        "      sn = list(map(lambda x: x[2], tmp_list))\n",
        "      tn = list(map(lambda x: x[3], tmp_list))\n",
        "\n",
        "      region = collections.Counter()\n",
        "      first_lit = collections.Counter()\n",
        "      second_lit = collections.Counter()\n",
        "      third_lit = collections.Counter()\n",
        "      first_num = collections.Counter()\n",
        "      second_num = collections.Counter()\n",
        "      third_num = collections.Counter()\n",
        "\n",
        "      for i in r:\n",
        "        region[i] += 1\n",
        "      for i in fl:\n",
        "        first_lit[i] += 1\n",
        "      for i in sl:\n",
        "        second_lit[i] += 1\n",
        "      for i in tl:\n",
        "        third_lit[i] += 1\n",
        "      for i in fn:\n",
        "        first_num[i] += 1\n",
        "      for i in sn:\n",
        "        second_num[i] += 1\n",
        "      for i in tn:\n",
        "        third_num[i] += 1\n",
        "\n",
        "      detect_region = region.most_common(1)[0][0]\n",
        "      detect_first_lit = first_lit.most_common(1)[0][0]\n",
        "      detect_second_lit = second_lit.most_common(1)[0][0]\n",
        "      detect_third_lit = third_lit.most_common(1)[0][0]\n",
        "      detect_first_num = first_num.most_common(1)[0][0]\n",
        "      detect_second_num = second_num.most_common(1)[0][0]\n",
        "      detect_third_num = third_num.most_common(1)[0][0]\n",
        "\n",
        "\n",
        "      print('Варианты и кол-во')\n",
        "      print(first_lit.most_common())\n",
        "      print(first_num.most_common())\n",
        "      print(second_num.most_common())\n",
        "      print(third_num.most_common())\n",
        "      print(second_lit.most_common())\n",
        "      print(third_lit.most_common())\n",
        "      print(region.most_common(), '\\n')\n",
        "\n",
        "      print(\"Список встречаемых номеров и их кол-во:\")\n",
        "      print(list(c.most_common()), '\\n')\n",
        "      print('Список подходящих номеров:')\n",
        "      print(list(all_numbers.most_common()), '\\n')\n",
        "      \n",
        "      predict_answer = detect_first_lit + detect_first_num + detect_second_num + detect_third_num + detect_second_lit + detect_third_lit + detect_region\n",
        "      tmp_state = False\n",
        "      if predict_answer == name:\n",
        "        result_right_detect_count += 1\n",
        "        tmp_state = True\n",
        "      else:\n",
        "        result_wrong_detect_count += 1\n",
        "\n",
        "      print(\"ПРЕДПОЛАГАЕМЫЙ ОТВЕТ: \", predict_answer)\n",
        "      print(\"ПРАВИЛЬНЫЙ ОТВЕТ    : \", name, tmp_state)\n",
        "      print('\\n\\n')\n"
      ],
      "execution_count": 121,
      "outputs": [
        {
          "output_type": "stream",
          "text": [
            "/usr/local/lib/python3.6/dist-packages/numpy/core/fromnumeric.py:3335: RuntimeWarning: Mean of empty slice.\n",
            "  out=out, **kwargs)\n",
            "/usr/local/lib/python3.6/dist-packages/numpy/core/_methods.py:161: RuntimeWarning: invalid value encountered in true_divide\n",
            "  ret = ret.dtype.type(ret / rcount)\n"
          ],
          "name": "stderr"
        },
        {
          "output_type": "stream",
          "text": [
            "/content/test/A659XE178.mp4\n"
          ],
          "name": "stdout"
        },
        {
          "output_type": "display_data",
          "data": {
            "image/png": "[encoded data removed]",
            "text/plain": [
              "<Figure size 432x288 with 1 Axes>"
            ]
          },
          "metadata": {
            "tags": [],
            "needs_background": "light"
          }
        },
        {
          "output_type": "stream",
          "text": [
            " \n",
            "  всего изображений     | 106\n",
            "  ---------------------\n",
            "  найдено номеров       | 106\n",
            "  ---------------------\n",
            "  определенно правильно | 86\n",
            "  ---------------------\n",
            "  процент правильности  | 81.132075 %\n",
            "  ---------------------\n",
            "  процент правильно     |\n",
            "  детектированных       | 81.132075 %\n",
            "  из найденных          |\n",
            "  \n",
            "Варианты и кол-во\n",
            "[('A', 88)]\n",
            "[('6', 88)]\n",
            "[('5', 88)]\n",
            "[('9', 88)]\n",
            "[('X', 87), ('Y', 1)]\n",
            "[('E', 88)]\n",
            "[('178', 87), ('173', 1)] \n",
            "\n",
            "Список встречаемых номеров и их кол-во:\n",
            "[('A659XE178', 86), ('A440E176', 2), ('HOOA71', 1), ('A659XE172', 1), ('6654AAY', 1), ('A59XE178', 1), ('A65YB178', 1), ('A659E178', 1), ('A460T', 1), ('A40E6', 1), ('A440YE6', 1), ('AA60E42', 1), ('A44BE178', 1), ('A640E177', 1), ('6440BE1B', 1), ('A65ETB', 1), ('A659YE178', 1), ('A659XE173', 1), ('63M7', 1), ('E1316', 1), ('11913', 1)] \n",
            "\n",
            "Список подходящих номеров:\n",
            "[('A659XE178', 86), ('A659YE178', 1), ('A659XE173', 1)] \n",
            "\n",
            "ПРЕДПОЛАГАЕМЫЙ ОТВЕТ:  A659XE178\n",
            "ПРАВИЛЬНЫЙ ОТВЕТ    :  A659XE178 True\n",
            "\n",
            "\n",
            "\n",
            "/content/test/E268XE123.copy.mp4\n"
          ],
          "name": "stdout"
        },
        {
          "output_type": "display_data",
          "data": {
            "image/png": "[encoded data removed]",
            "text/plain": [
              "<Figure size 432x288 with 1 Axes>"
            ]
          },
          "metadata": {
            "tags": [],
            "needs_background": "light"
          }
        },
        {
          "output_type": "stream",
          "text": [
            " \n",
            "  всего изображений     | 7\n",
            "  ---------------------\n",
            "  найдено номеров       | 7\n",
            "  ---------------------\n",
            "  определенно правильно | 1\n",
            "  ---------------------\n",
            "  процент правильности  | 14.285714 %\n",
            "  ---------------------\n",
            "  процент правильно     |\n",
            "  детектированных       | 14.285714 %\n",
            "  из найденных          |\n",
            "  \n",
            "Варианты и кол-во\n",
            "[('E', 4)]\n",
            "[('2', 4)]\n",
            "[('6', 3), ('5', 1)]\n",
            "[('8', 3), ('0', 1)]\n",
            "[('X', 4)]\n",
            "[('E', 4)]\n",
            "[('123', 3), ('23', 1)] \n",
            "\n",
            "Список встречаемых номеров и их кол-во:\n",
            "[('E26XE120', 1), ('E268XE120', 1), ('E258XE123', 1), ('E260XE123', 1), ('E268XE123', 1), ('E28XE123', 1), ('E268XE23', 1)] \n",
            "\n",
            "Список подходящих номеров:\n",
            "[('E258XE123', 1), ('E260XE123', 1), ('E268XE123', 1), ('E268XE23', 1)] \n",
            "\n",
            "ПРЕДПОЛАГАЕМЫЙ ОТВЕТ:  E268XE123\n",
            "ПРАВИЛЬНЫЙ ОТВЕТ    :  E268XE123 True\n",
            "\n",
            "\n",
            "\n",
            "/content/test/E268XE123.mp4\n"
          ],
          "name": "stdout"
        },
        {
          "output_type": "display_data",
          "data": {
            "image/png": "[encoded data removed]",
            "text/plain": [
              "<Figure size 432x288 with 1 Axes>"
            ]
          },
          "metadata": {
            "tags": [],
            "needs_background": "light"
          }
        },
        {
          "output_type": "stream",
          "text": [
            " \n",
            "  всего изображений     | 145\n",
            "  ---------------------\n",
            "  найдено номеров       | 143\n",
            "  ---------------------\n",
            "  определенно правильно | 75\n",
            "  ---------------------\n",
            "  процент правильности  | 51.724138 %\n",
            "  ---------------------\n",
            "  процент правильно     |\n",
            "  детектированных       | 52.447552 %\n",
            "  из найденных          |\n",
            "  \n",
            "Варианты и кол-во\n",
            "[('E', 99)]\n",
            "[('2', 99)]\n",
            "[('6', 99)]\n",
            "[('8', 99)]\n",
            "[('X', 99)]\n",
            "[('E', 99)]\n",
            "[('123', 75), ('12', 19), ('122', 2), ('13', 2), ('10', 1)] \n",
            "\n",
            "Список встречаемых номеров и их кол-во:\n",
            "[('E268XE123', 75), ('E268XE120', 26), ('E268XE12', 19), ('E268XE1203', 4), ('E268XE122', 2), ('E268XE103', 2), ('E268XE13', 2), ('38O614', 1), ('OA45AT93', 1), ('ABAAT97', 1), ('AE24AT6', 1), ('AA4AE117', 1), ('61151AH', 1), ('12BXP9O37', 1), ('AP26XET03', 1), ('E268XE128', 1), ('E268XE10', 1), ('E268XE100', 1), ('E2635XE403', 1), ('E25O5BE120', 1)] \n",
            "\n",
            "Список подходящих номеров:\n",
            "[('E268XE123', 75), ('E268XE12', 19), ('E268XE122', 2), ('E268XE13', 2), ('E268XE10', 1)] \n",
            "\n",
            "ПРЕДПОЛАГАЕМЫЙ ОТВЕТ:  E268XE123\n",
            "ПРАВИЛЬНЫЙ ОТВЕТ    :  E268XE123 True\n",
            "\n",
            "\n",
            "\n",
            "/content/test/E796PM123.mp4\n"
          ],
          "name": "stdout"
        },
        {
          "output_type": "display_data",
          "data": {
            "image/png": "[encoded data removed]",
            "text/plain": [
              "<Figure size 432x288 with 1 Axes>"
            ]
          },
          "metadata": {
            "tags": [],
            "needs_background": "light"
          }
        },
        {
          "output_type": "stream",
          "text": [
            " \n",
            "  всего изображений     | 293\n",
            "  ---------------------\n",
            "  найдено номеров       | 293\n",
            "  ---------------------\n",
            "  определенно правильно | 23\n",
            "  ---------------------\n",
            "  процент правильности  | 7.849829 %\n",
            "  ---------------------\n",
            "  процент правильно     |\n",
            "  детектированных       | 7.849829 %\n",
            "  из найденных          |\n",
            "  \n",
            "Варианты и кол-во\n",
            "[('E', 64), ('T', 17), ('H', 3), ('A', 3)]\n",
            "[('7', 65), ('5', 12), ('1', 5), ('2', 2), ('4', 2), ('8', 1)]\n",
            "[('9', 64), ('2', 10), ('0', 5), ('1', 4), ('4', 2), ('5', 2)]\n",
            "[('6', 67), ('1', 18), ('4', 2)]\n",
            "[('P', 66), ('Y', 16), ('T', 3), ('A', 1), ('K', 1)]\n",
            "[('M', 53), ('E', 16), ('H', 12), ('P', 3), ('C', 2), ('A', 1)]\n",
            "[('12', 32), ('123', 25), ('142', 5), ('43', 4), ('42', 4), ('14', 4), ('44', 2), ('13', 2), ('51', 1), ('62', 1), ('16', 1), ('46', 1), ('10', 1), ('122', 1), ('125', 1), ('23', 1), ('03', 1)] \n",
            "\n",
            "Список встречаемых номеров и их кол-во:\n",
            "[('E796PH120', 45), ('E796PM123', 23), ('E796PM12', 23), ('E796PM120', 11), ('E796PH12', 6), ('1A544PM4', 5), ('B164MH', 3), ('6E2AA4077', 3), ('E796PM', 3), ('T501YE142', 3), ('E796M123', 3), ('E796M123E', 3), ('H315AP341', 2), ('6A13A4', 2), ('A16TPT21', 2), ('H284AH5', 2), ('H476Y4', 2), ('A286YA3', 2), ('H16YT121', 2), ('A244PM', 2), ('AE2144A', 2), ('E214P', 2), ('AE714H4', 2), ('77577H77', 2), ('A764MA', 2), ('A54O4', 2), ('T551EA1', 2), ('3A78PM44', 2), ('TA44TA16', 2), ('398PH', 2), ('AA455C4', 2), ('T111E12', 2), ('E796PH4', 2), ('E796MH4A', 2), ('T121YE14', 2), ('AE796PH4', 2), ('KE7916M12A', 2), ('AE41TC2', 2), ('E796PA', 2), ('AE796P10', 2), ('T521YE12', 2), ('E796PM1A', 2), ('7E7377T', 2), ('E796PHA', 2), ('E796PM1', 2), ('E996P30', 2), ('6E296PMOX', 2), ('E796PM13', 2), ('E796PH123', 2), ('E796PM43', 2), ('AE796PH12', 2), ('E796PM2', 2), ('E796PM128', 2), ('E796PM100', 2), ('AA24P45', 1), ('AATP47', 1), ('1A14', 1), ('H816TP44', 1), ('H216YP44', 1), ('AAT4P444', 1), ('H216YP51', 1), ('AATP444', 1), ('H51YY144', 1), ('AAX4P444', 1), ('3A24PH9', 1), ('2H2Y4AH5', 1), ('T44A4A1', 1), ('A28AT', 1), ('216AP521', 1), ('A2264A4E', 1), ('8B244PTH3', 1), ('HE6YP1A', 1), ('A2844A', 1), ('O416P21', 1), ('12444HH0', 1), ('M516T74', 1), ('376A44', 1), ('AME16Y73', 1), ('3E1AAA', 1), ('M511Y26', 1), ('3A1AAA41', 1), ('A284443', 1), ('AHE1Y72', 1), ('EA21PA31', 1), ('T8154', 1), ('A24AH41', 1), ('E25AAAA1', 1), ('3E2A4PH5', 1), ('1A714TE', 1), ('A70H', 1), ('A70H7', 1), ('777774', 1), ('8A784M33A', 1), ('1A784M33A', 1), ('14714P4', 1), ('6A264P33', 1), ('3A21AH', 1), ('3B71A40A', 1), ('AA71414A', 1), ('E71AP4', 1), ('3B71APH4', 1), ('B314PAA', 1), ('B314P4AA', 1), ('1BT84P44', 1), ('215A1YT', 1), ('E21AHH4', 1), ('24A46', 1), ('5T1AE9T', 1), ('AA764A', 1), ('3E784AM4', 1), ('54621T', 1), ('2A5A4PT', 1), ('51551C', 1), ('A1441TT', 1), ('EA76PMMA', 1), ('A4441TYT', 1), ('AA7844HMA1', 1), ('A446TT', 1), ('A714PH43', 1), ('B84P', 1), ('AT545C', 1), ('1E216MM3A', 1), ('AT544T4A', 1), ('A4A4YT4', 1), ('T444YT1AA', 1), ('A110PA', 1), ('Y6A6C2', 1), ('AB1144A', 1), ('AA54C1A5', 1), ('AK4A4AA', 1), ('AKA146Y41', 1), ('A454C3', 1), ('E714M4AA', 1), ('A54YO7', 1), ('228MH', 1), ('T44A11', 1), ('T521YE42', 1), ('22286PMA', 1), ('T521YC62', 1), ('3A21AAH4', 1), ('T544TA16', 1), ('H521YCA1', 1), ('22A077', 1), ('T521ATCA1', 1), ('22A07', 1), ('T55142M2', 1), ('32284M', 1), ('176PM', 1), ('T644T2', 1), ('224P7T', 1), ('AA4A1244', 1), ('A4T775T', 1), ('AB786PHA', 1), ('T121PE42', 1), ('3278PXM', 1), ('T441AE42', 1), ('E3862HH1', 1), ('32796PMM', 1), ('T551TE14', 1), ('E796PM4', 1), ('TA51TE14', 1), ('AA39AO1H13', 1), ('451E2', 1), ('TK11AC3', 1), ('KA7166MMA', 1), ('T51YE42', 1), ('E7146MM', 1), ('T446YCM2', 1), ('C796PM1A', 1), ('A501KC14', 1), ('EE7964MA3', 1), ('AA44AE4', 1), ('E726PH1A', 1), ('A541K122', 1), ('AE796PM1A', 1), ('T641ACT', 1), ('EA7864M1A', 1), ('T451YE12', 1), ('EE7866M1A', 1), ('AT521AE143', 1), ('796PH', 1), ('AT326C', 1), ('KA796MM1A', 1), ('ATM41YC', 1), ('AE796PM1', 1), ('AY521E1423', 1), ('T121YE142', 1), ('E784MM1A', 1), ('A521YE142', 1), ('T501YE42', 1), ('T121YE46', 1), ('AE796PM122', 1), ('KE79881A', 1), ('K9881A', 1), ('E796PH1', 1), ('AT521YE46', 1), ('AE796C1A3', 1), ('T51YE43', 1), ('T501YE423', 1), ('T521YE423', 1), ('T541EO', 1), ('T503K13', 1), ('E796PMA', 1), ('AT521XE4', 1), ('1E796P10', 1), ('1T501A3', 1), ('AA541C4', 1), ('3E96PHT23', 1), ('A531KE1', 1), ('AT51Y4E', 1), ('1T441K4', 1), ('E796P103', 1), ('AT525T', 1), ('E796P12', 1), ('AT535T', 1), ('E796PH2', 1), ('E796PH10', 1), ('ET96HH3', 1), ('ET96PH3', 1), ('E7968M138', 1), ('E796PH122', 1), ('6E796PH77', 1), ('E796P123', 1), ('AE796PM12', 1), ('E796PM125', 1), ('E796PH43', 1), ('E796PM12A', 1), ('E796PM123E', 1), ('AE796PH3', 1), ('EE796PM23', 1), ('M', 1), ('AE796PM2', 1), ('E796M134', 1), ('E968M123', 1), ('E796PM23', 1), ('E796PM03', 1)] \n",
            "\n",
            "Список подходящих номеров:\n",
            "[('E796PM123', 23), ('E796PM12', 23), ('E796PH12', 6), ('T501YE142', 3), ('T121YE14', 2), ('T521YE12', 2), ('E796PM13', 2), ('E796PH123', 2), ('E796PM43', 2), ('H816TP44', 1), ('H216YP44', 1), ('H216YP51', 1), ('A714PH43', 1), ('T521YE42', 1), ('T521YC62', 1), ('T544TA16', 1), ('T121PE42', 1), ('T441AE42', 1), ('T551TE14', 1), ('A501KC14', 1), ('T451YE12', 1), ('T121YE142', 1), ('A521YE142', 1), ('T501YE42', 1), ('T121YE46', 1), ('E796PH10', 1), ('E796PH122', 1), ('E796PM125', 1), ('E796PH43', 1), ('E796PM23', 1), ('E796PM03', 1)] \n",
            "\n",
            "ПРЕДПОЛАГАЕМЫЙ ОТВЕТ:  E796PM12\n",
            "ПРАВИЛЬНЫЙ ОТВЕТ    :  E796PM123 False\n",
            "\n",
            "\n",
            "\n",
            "/content/test/H133OE123.copy.MOV\n"
          ],
          "name": "stdout"
        },
        {
          "output_type": "display_data",
          "data": {
            "image/png": "[encoded data removed]",
            "text/plain": [
              "<Figure size 432x288 with 1 Axes>"
            ]
          },
          "metadata": {
            "tags": [],
            "needs_background": "light"
          }
        },
        {
          "output_type": "stream",
          "text": [
            " \n",
            "  всего изображений     | 659\n",
            "  ---------------------\n",
            "  найдено номеров       | 287\n",
            "  ---------------------\n",
            "  определенно правильно | 13\n",
            "  ---------------------\n",
            "  процент правильности  | 1.972686 %\n",
            "  ---------------------\n",
            "  процент правильно     |\n",
            "  детектированных       | 4.529617 %\n",
            "  из найденных          |\n",
            "  \n",
            "Варианты и кол-во\n",
            "[('H', 46), ('M', 7)]\n",
            "[('1', 53)]\n",
            "[('3', 42), ('5', 6), ('8', 4), ('0', 1)]\n",
            "[('3', 53)]\n",
            "[('O', 39), ('A', 12), ('E', 1), ('B', 1)]\n",
            "[('E', 35), ('H', 12), ('K', 6)]\n",
            "[('123', 24), ('173', 13), ('17', 6), ('18', 4), ('12', 2), ('13', 2), ('16', 1), ('126', 1)] \n",
            "\n",
            "Список встречаемых номеров и их кол-во:\n",
            "[('H13AY11', 14), ('H133OE123', 13), ('HAA4H1', 12), ('A153H1', 10), ('574A4T1', 8), ('AAH79HO', 7), ('HA984H1', 6), ('H134H1', 6), ('M133OK17', 6), ('H133OE1', 6), ('414A1', 5), ('H133H1', 5), ('H13441', 5), ('H133AH173', 5), ('A9AA4H1', 4), ('AA4O18', 4), ('0A184H1', 4), ('H13AH', 4), ('H13AE17', 4), ('H33OE123', 4), ('H183OE123', 4), ('H133OE18', 4), ('B83A4H', 3), ('HB4A4T', 3), ('H731111', 3), ('H134H3', 3), ('H13AYC3', 3), ('H133H', 3), ('H153AH173', 3), ('H133H1H7', 3), ('H544H11', 2), ('AAAH', 2), ('H185411', 2), ('934HH1', 2), ('451H11', 2), ('AAA4112', 2), ('595411', 2), ('A134H1', 2), ('HA131O10', 2), ('HA184H1', 2), ('HA13H', 2), ('A9AAH1', 2), ('A9AA1', 2), ('H133H11', 2), ('H134A3', 2), ('H13413', 2), ('H133', 2), ('H133AH123', 2), ('H17E123', 2), ('H133OE173', 2), ('H133OE13', 2), ('H153OE173', 2), ('A903A1OT', 1), ('AAAAH1', 1), ('B83AH', 1), ('H903A1OT', 1), ('AAAAH', 1), ('H5A4H1', 1), ('A454H11', 1), ('A484H1', 1), ('H151H1T1', 1), ('854H4', 1), ('854H1', 1), ('9A4H1T', 1), ('434HH11', 1), ('H6A4', 1), ('634A4O1', 1), ('H4A4T', 1), ('H5A4', 1), ('65A4T1', 1), ('H8A4', 1), ('A4A4T1', 1), ('A4A4', 1), ('H4A44H116', 1), ('H4A4T116', 1), ('H4A44H16', 1), ('H4A44116', 1), ('H4A44H11', 1), ('A444H112', 1), ('AA4O12', 1), ('AA44O12', 1), ('AA44T18', 1), ('A444O12', 1), ('A44412', 1), ('HAA4H4', 1), ('454O1T1', 1), ('AA56OT1', 1), ('A94H11', 1), ('H734H', 1), ('H9341', 1), ('H754H11', 1), ('H754H1', 1), ('H13111', 1), ('A734HT1', 1), ('A154HT1', 1), ('A134HT1', 1), ('HA13AH1', 1), ('HA184H2', 1), ('A1541', 1), ('H1AAH1', 1), ('HB13A', 1), ('HA13AH', 1), ('H15AH1', 1), ('A15H1', 1), ('H15HY1', 1), ('H153H1', 1), ('HA134H12', 1), ('H13AY3', 1), ('933511', 1), ('H133TT1', 1), ('H1331', 1), ('H1341', 1), ('H153AH123', 1), ('H133OE12', 1), ('H133OH123', 1), ('M133OXE17', 1), ('M133OE12', 1), ('M133OKE17', 1), ('H133EE123', 1), ('H133E120', 1), ('M133E120', 1), ('H13E123', 1), ('H137E123', 1), ('H133AE123', 1), ('H13CE123', 1), ('H13AE123', 1), ('H133BE123', 1), ('H103OE173', 1), ('H33OE13', 1), ('H133OE16', 1), ('H133OE126', 1)] \n",
            "\n",
            "Список подходящих номеров:\n",
            "[('H133OE123', 13), ('M133OK17', 6), ('H133AH173', 5), ('H183OE123', 4), ('H133OE18', 4), ('H153AH173', 3), ('H133AH123', 2), ('H133OE173', 2), ('H133OE13', 2), ('H153OE173', 2), ('H153AH123', 1), ('H133OE12', 1), ('H133OH123', 1), ('M133OE12', 1), ('H133EE123', 1), ('H133AE123', 1), ('H133BE123', 1), ('H103OE173', 1), ('H133OE16', 1), ('H133OE126', 1)] \n",
            "\n",
            "ПРЕДПОЛАГАЕМЫЙ ОТВЕТ:  H133OE123\n",
            "ПРАВИЛЬНЫЙ ОТВЕТ    :  H133OE123 True\n",
            "\n",
            "\n",
            "\n",
            "/content/test/H133OE123.MOV\n"
          ],
          "name": "stdout"
        },
        {
          "output_type": "display_data",
          "data": {
            "image/png": "[encoded data removed]",
            "text/plain": [
              "<Figure size 432x288 with 1 Axes>"
            ]
          },
          "metadata": {
            "tags": [],
            "needs_background": "light"
          }
        },
        {
          "output_type": "stream",
          "text": [
            " \n",
            "  всего изображений     | 40\n",
            "  ---------------------\n",
            "  найдено номеров       | 8\n",
            "  ---------------------\n",
            "  определенно правильно | 0\n",
            "  ---------------------\n",
            "  процент правильности  | 0.000000 %\n",
            "  ---------------------\n",
            "  процент правильно     |\n",
            "  детектированных       | 0.000000 %\n",
            "  из найденных          |\n",
            "  \n",
            "[('A93A', 1), ('7TKA441', 1), ('A7AO2', 1), ('AT3E123', 1), ('H133OE112', 1), ('H17OE13', 1), ('H33OE123', 1), ('H7T7O7', 1)]\n",
            "НОМЕР НЕ СООТВЕТСВУЕТ ГОСТУ легковых автомобилей\n",
            "\n",
            "\n",
            "/content/test/K253AE154.mp4\n"
          ],
          "name": "stdout"
        },
        {
          "output_type": "display_data",
          "data": {
            "image/png": "[encoded data removed]",
            "text/plain": [
              "<Figure size 432x288 with 1 Axes>"
            ]
          },
          "metadata": {
            "tags": [],
            "needs_background": "light"
          }
        },
        {
          "output_type": "stream",
          "text": [
            " \n",
            "  всего изображений     | 110\n",
            "  ---------------------\n",
            "  найдено номеров       | 48\n",
            "  ---------------------\n",
            "  определенно правильно | 5\n",
            "  ---------------------\n",
            "  процент правильности  | 4.545455 %\n",
            "  ---------------------\n",
            "  процент правильно     |\n",
            "  детектированных       | 10.416667 %\n",
            "  из найденных          |\n",
            "  \n",
            "Варианты и кол-во\n",
            "[('K', 7), ('A', 2)]\n",
            "[('2', 9)]\n",
            "[('5', 9)]\n",
            "[('3', 9)]\n",
            "[('A', 9)]\n",
            "[('E', 9)]\n",
            "[('154', 6), ('54', 2), ('134', 1)] \n",
            "\n",
            "Список встречаемых номеров и их кол-во:\n",
            "[('A223', 18), ('K72Y5', 8), ('K253AE154', 5), ('K253AE54', 2), ('251AAT4', 1), ('Y253A36', 1), ('K250ATT4', 1), ('AT5TAE436', 1), ('AO5TAE434', 1), ('A53AE5', 1), ('A253AE144', 1), ('A253AE134', 1), ('253AE134', 1), ('A253AE154', 1), ('253AE154', 1), ('18', 1), ('1631', 1), ('1222AA', 1), ('182AA4', 1)] \n",
            "\n",
            "Список подходящих номеров:\n",
            "[('K253AE154', 5), ('K253AE54', 2), ('A253AE134', 1), ('A253AE154', 1)] \n",
            "\n",
            "ПРЕДПОЛАГАЕМЫЙ ОТВЕТ:  K253AE154\n",
            "ПРАВИЛЬНЫЙ ОТВЕТ    :  K253AE154 True\n",
            "\n",
            "\n",
            "\n",
            "/content/test/M027PT65.mp4\n"
          ],
          "name": "stdout"
        },
        {
          "output_type": "display_data",
          "data": {
            "image/png": "[encoded data removed]",
            "text/plain": [
              "<Figure size 432x288 with 1 Axes>"
            ]
          },
          "metadata": {
            "tags": [],
            "needs_background": "light"
          }
        },
        {
          "output_type": "stream",
          "text": [
            " \n",
            "  всего изображений     | 114\n",
            "  ---------------------\n",
            "  найдено номеров       | 107\n",
            "  ---------------------\n",
            "  определенно правильно | 3\n",
            "  ---------------------\n",
            "  процент правильности  | 2.631579 %\n",
            "  ---------------------\n",
            "  процент правильно     |\n",
            "  детектированных       | 2.803738 %\n",
            "  из найденных          |\n",
            "  \n",
            "Варианты и кол-во\n",
            "[('H', 14), ('M', 10), ('A', 1)]\n",
            "[('0', 24), ('4', 1)]\n",
            "[('2', 24), ('0', 1)]\n",
            "[('7', 18), ('3', 5), ('2', 2)]\n",
            "[('P', 21), ('B', 2), ('A', 1), ('T', 1)]\n",
            "[('T', 23), ('X', 1), ('K', 1)]\n",
            "[('65', 8), ('66', 8), ('64', 4), ('15', 2), ('63', 2), ('13', 1)] \n",
            "\n",
            "Список встречаемых номеров и их кол-во:\n",
            "[('H027PT65', 5), ('M027PT65', 3), ('M023PT66', 3), ('H027PT66', 3), ('T48AA8', 2), ('027PTA5', 2), ('H027PT64', 2), ('023PT65', 2), ('M027PT66', 2), ('M027BT63', 2), ('H44444', 1), ('EH41AA4A1', 1), ('H23BA8', 1), ('H744AA7', 1), ('4744444', 1), ('757474', 1), ('AH19O1', 1), ('4540444', 1), ('H4444744', 1), ('44Y4A4', 1), ('451AT6', 1), ('444A14', 1), ('H44AA7', 1), ('44747A6', 1), ('443A6', 1), ('444A15', 1), ('42TKA83', 1), ('H774TA1', 1), ('9A44466', 1), ('H795954', 1), ('4443A46', 1), ('H484H46', 1), ('H24BT64', 1), ('H07APT18', 1), ('H02PT18', 1), ('44AAY41', 1), ('422T41', 1), ('42KYM1', 1), ('H074ATT6', 1), ('H4A3PT44', 1), ('073AT43', 1), ('44044HT54', 1), ('H23PXT4', 1), ('4423PB54', 1), ('03BY64', 1), ('A023AX13', 1), ('4423HT54', 1), ('H54HT54', 1), ('077HB44', 1), ('44423PAA3', 1), ('H323BTA3', 1), ('H423PAA5', 1), ('22T55', 1), ('23PT65', 1), ('H423PTA4', 1), ('H32A44', 1), ('H4027AT65', 1), ('H022PA1E', 1), ('02PT13', 1), ('4022P16', 1), ('H4027PA24', 1), ('H3KT64', 1), ('H023HT1', 1), ('027PTA4', 1), ('P027P123', 1), ('H02APT44', 1), ('H27PT65', 1), ('02AT55', 1), ('M02ABT63', 1), ('M27PT64', 1), ('H022PK64', 1), ('A02AMT65', 1), ('H027PT15', 1), ('023HA13', 1), ('H02AT64', 1), ('H402PT64', 1), ('402AT64', 1), ('H023TT15', 1), ('M02APT64', 1), ('402PT14', 1), ('H02PT64', 1), ('A02APT64', 1), ('M027H744', 1), ('4027PT64', 1), ('4023PT65', 1), ('02TPTAA', 1), ('102PTA5', 1), ('M027T66', 1), ('M02APT165', 1), ('023PT66', 1), ('H027PT883', 1), ('H027PTA4', 1), ('B023PTA5', 1)] \n",
            "\n",
            "Список подходящих номеров:\n",
            "[('H027PT65', 5), ('M027PT65', 3), ('M023PT66', 3), ('H027PT66', 3), ('H027PT64', 2), ('M027PT66', 2), ('M027BT63', 2), ('A023AX13', 1), ('H022PK64', 1), ('H027PT15', 1), ('H402PT64', 1), ('H023TT15', 1)] \n",
            "\n",
            "ПРЕДПОЛАГАЕМЫЙ ОТВЕТ:  H027PT65\n",
            "ПРАВИЛЬНЫЙ ОТВЕТ    :  M027PT65 False\n",
            "\n",
            "\n",
            "\n",
            "/content/test/P471MB71.mp4\n"
          ],
          "name": "stdout"
        },
        {
          "output_type": "display_data",
          "data": {
            "image/png": "[encoded data removed]",
            "text/plain": [
              "<Figure size 432x288 with 1 Axes>"
            ]
          },
          "metadata": {
            "tags": [],
            "needs_background": "light"
          }
        },
        {
          "output_type": "stream",
          "text": [
            " \n",
            "  всего изображений     | 89\n",
            "  ---------------------\n",
            "  найдено номеров       | 70\n",
            "  ---------------------\n",
            "  определенно правильно | 45\n",
            "  ---------------------\n",
            "  процент правильности  | 50.561798 %\n",
            "  ---------------------\n",
            "  процент правильно     |\n",
            "  детектированных       | 64.285714 %\n",
            "  из найденных          |\n",
            "  \n",
            "Варианты и кол-во\n",
            "[('P', 51), ('M', 1)]\n",
            "[('4', 50), ('3', 1), ('6', 1)]\n",
            "[('7', 51), ('2', 1)]\n",
            "[('1', 50), ('4', 1), ('0', 1)]\n",
            "[('M', 49), ('B', 1), ('Y', 1), ('A', 1)]\n",
            "[('B', 52)]\n",
            "[('71', 49), ('11', 1), ('81', 1), ('31', 1)] \n",
            "\n",
            "Список встречаемых номеров и их кол-во:\n",
            "[('P471MB71', 45), ('A7M8311', 1), ('P374BB11', 1), ('P47M821', 1), ('P471YB81', 1), ('PK1XBB1', 1), ('M073A1', 1), ('M974B73', 1), ('M471MB31', 1), ('9MBB71', 1), ('P70MB700', 1), ('P470MB71', 1), ('P47MMB70', 1), ('P01PB01', 1), ('P271MBT71', 1), ('HP4713B1', 1), ('P47MB71', 1), ('P671MB71', 1), ('H7M871', 1), ('472AB0', 1), ('P471AB71', 1), ('P471PB1', 1), ('P471MB1', 1), ('P4710B7', 1), ('M431B31', 1), ('P421MB71', 1)] \n",
            "\n",
            "Список подходящих номеров:\n",
            "[('P471MB71', 45), ('P374BB11', 1), ('P471YB81', 1), ('M471MB31', 1), ('P470MB71', 1), ('P671MB71', 1), ('P471AB71', 1), ('P421MB71', 1)] \n",
            "\n",
            "ПРЕДПОЛАГАЕМЫЙ ОТВЕТ:  P471MB71\n",
            "ПРАВИЛЬНЫЙ ОТВЕТ    :  P471MB71 True\n",
            "\n",
            "\n",
            "\n",
            "/content/test/T404YA47.mp4\n"
          ],
          "name": "stdout"
        },
        {
          "output_type": "display_data",
          "data": {
            "image/png": "[encoded data removed]",
            "text/plain": [
              "<Figure size 432x288 with 1 Axes>"
            ]
          },
          "metadata": {
            "tags": [],
            "needs_background": "light"
          }
        },
        {
          "output_type": "stream",
          "text": [
            " \n",
            "  всего изображений     | 47\n",
            "  ---------------------\n",
            "  найдено номеров       | 42\n",
            "  ---------------------\n",
            "  определенно правильно | 18\n",
            "  ---------------------\n",
            "  процент правильности  | 38.297872 %\n",
            "  ---------------------\n",
            "  процент правильно     |\n",
            "  детектированных       | 42.857143 %\n",
            "  из найденных          |\n",
            "  \n",
            "Варианты и кол-во\n",
            "[('T', 25), ('K', 1)]\n",
            "[('4', 20), ('6', 6)]\n",
            "[('0', 26)]\n",
            "[('4', 26)]\n",
            "[('Y', 26)]\n",
            "[('A', 26)]\n",
            "[('47', 25), ('43', 1)] \n",
            "\n",
            "Список встречаемых номеров и их кол-во:\n",
            "[('T404YA47', 18), ('T604YA47', 6), ('T404YA4', 2), ('7404YA47', 1), ('T44YA43', 1), ('AH4AHO11', 1), ('K404YA47', 1), ('E1O1H', 1), ('T40AYA47', 1), ('T404YA43', 1), ('T44AA4', 1), ('T4064YA47', 1), ('1404YA47', 1), ('MT404TA47', 1), ('TH10T547', 1), ('1404YK47', 1), ('4Y444Y', 1), ('A495PTT4', 1), ('4A42', 1), ('A475MOTT', 1), ('A475YAT', 1), ('66755TT', 1)] \n",
            "\n",
            "Список подходящих номеров:\n",
            "[('T404YA47', 18), ('T604YA47', 6), ('K404YA47', 1), ('T404YA43', 1)] \n",
            "\n",
            "ПРЕДПОЛАГАЕМЫЙ ОТВЕТ:  T404YA47\n",
            "ПРАВИЛЬНЫЙ ОТВЕТ    :  T404YA47 True\n",
            "\n",
            "\n",
            "\n",
            "/content/test/T600TM93.copy.MP4\n"
          ],
          "name": "stdout"
        },
        {
          "output_type": "display_data",
          "data": {
            "image/png": "[encoded data removed]",
            "text/plain": [
              "<Figure size 432x288 with 1 Axes>"
            ]
          },
          "metadata": {
            "tags": [],
            "needs_background": "light"
          }
        },
        {
          "output_type": "stream",
          "text": [
            " \n",
            "  всего изображений     | 54\n",
            "  ---------------------\n",
            "  найдено номеров       | 36\n",
            "  ---------------------\n",
            "  определенно правильно | 23\n",
            "  ---------------------\n",
            "  процент правильности  | 42.592593 %\n",
            "  ---------------------\n",
            "  процент правильно     |\n",
            "  детектированных       | 63.888889 %\n",
            "  из найденных          |\n",
            "  \n",
            "Варианты и кол-во\n",
            "[('T', 26)]\n",
            "[('6', 26)]\n",
            "[('0', 26)]\n",
            "[('0', 26)]\n",
            "[('T', 26)]\n",
            "[('M', 25), ('H', 1)]\n",
            "[('93', 24), ('90', 2)] \n",
            "\n",
            "Список встречаемых номеров и их кол-во:\n",
            "[('T600TM93', 23), ('T600TH9', 2), ('T00TM93', 2), ('T600TM90', 2), ('TA00TH993', 1), ('TH00TM93', 1), ('T00TH9', 1), ('C1X23', 1), ('T600TH93', 1), ('T50TM93', 1), ('T600TM937', 1), ('T600TM9', 1)] \n",
            "\n",
            "Список подходящих номеров:\n",
            "[('T600TM93', 23), ('T600TM90', 2), ('T600TH93', 1)] \n",
            "\n",
            "ПРЕДПОЛАГАЕМЫЙ ОТВЕТ:  T600TM93\n",
            "ПРАВИЛЬНЫЙ ОТВЕТ    :  T600TM93 True\n",
            "\n",
            "\n",
            "\n",
            "/content/test/T600TM93.copy2.MP4\n"
          ],
          "name": "stdout"
        },
        {
          "output_type": "display_data",
          "data": {
            "image/png": "[encoded data removed]",
            "text/plain": [
              "<Figure size 432x288 with 1 Axes>"
            ]
          },
          "metadata": {
            "tags": [],
            "needs_background": "light"
          }
        },
        {
          "output_type": "stream",
          "text": [
            " \n",
            "  всего изображений     | 34\n",
            "  ---------------------\n",
            "  найдено номеров       | 6\n",
            "  ---------------------\n",
            "  определенно правильно | 6\n",
            "  ---------------------\n",
            "  процент правильности  | 17.647059 %\n",
            "  ---------------------\n",
            "  процент правильно     |\n",
            "  детектированных       | 100.000000 %\n",
            "  из найденных          |\n",
            "  \n",
            "Варианты и кол-во\n",
            "[('T', 6)]\n",
            "[('6', 6)]\n",
            "[('0', 6)]\n",
            "[('0', 6)]\n",
            "[('T', 6)]\n",
            "[('M', 6)]\n",
            "[('93', 6)] \n",
            "\n",
            "Список встречаемых номеров и их кол-во:\n",
            "[('T600TM93', 6)] \n",
            "\n",
            "Список подходящих номеров:\n",
            "[('T600TM93', 6)] \n",
            "\n",
            "ПРЕДПОЛАГАЕМЫЙ ОТВЕТ:  T600TM93\n",
            "ПРАВИЛЬНЫЙ ОТВЕТ    :  T600TM93 True\n",
            "\n",
            "\n",
            "\n",
            "/content/test/T600TM93.MP4\n"
          ],
          "name": "stdout"
        },
        {
          "output_type": "display_data",
          "data": {
            "image/png": "[encoded data removed]",
            "text/plain": [
              "<Figure size 432x288 with 1 Axes>"
            ]
          },
          "metadata": {
            "tags": [],
            "needs_background": "light"
          }
        },
        {
          "output_type": "stream",
          "text": [
            " \n",
            "  всего изображений     | 103\n",
            "  ---------------------\n",
            "  найдено номеров       | 17\n",
            "  ---------------------\n",
            "  определенно правильно | 11\n",
            "  ---------------------\n",
            "  процент правильности  | 10.679612 %\n",
            "  ---------------------\n",
            "  процент правильно     |\n",
            "  детектированных       | 64.705882 %\n",
            "  из найденных          |\n",
            "  \n",
            "Варианты и кол-во\n",
            "[('T', 15)]\n",
            "[('6', 15)]\n",
            "[('0', 15)]\n",
            "[('0', 15)]\n",
            "[('T', 15)]\n",
            "[('M', 11), ('H', 3), ('P', 1)]\n",
            "[('93', 14), ('96', 1)] \n",
            "\n",
            "Список встречаемых номеров и их кол-во:\n",
            "[('T600TM93', 11), ('T600TH93', 3), ('T600TP96', 1), ('T60TH93', 1), ('4AE3', 1), ('T600TM9', 1)] \n",
            "\n",
            "Список подходящих номеров:\n",
            "[('T600TM93', 11), ('T600TH93', 3), ('T600TP96', 1)] \n",
            "\n",
            "ПРЕДПОЛАГАЕМЫЙ ОТВЕТ:  T600TM93\n",
            "ПРАВИЛЬНЫЙ ОТВЕТ    :  T600TM93 True\n",
            "\n",
            "\n",
            "\n",
            "/content/test/Y618XX123.mp4\n"
          ],
          "name": "stdout"
        },
        {
          "output_type": "display_data",
          "data": {
            "image/png": "[encoded data removed]",
            "text/plain": [
              "<Figure size 432x288 with 1 Axes>"
            ]
          },
          "metadata": {
            "tags": [],
            "needs_background": "light"
          }
        },
        {
          "output_type": "stream",
          "text": [
            " \n",
            "  всего изображений     | 146\n",
            "  ---------------------\n",
            "  найдено номеров       | 146\n",
            "  ---------------------\n",
            "  определенно правильно | 111\n",
            "  ---------------------\n",
            "  процент правильности  | 76.027397 %\n",
            "  ---------------------\n",
            "  процент правильно     |\n",
            "  детектированных       | 76.027397 %\n",
            "  из найденных          |\n",
            "  \n",
            "Варианты и кол-во\n",
            "[('Y', 116), ('H', 3)]\n",
            "[('6', 119)]\n",
            "[('1', 119)]\n",
            "[('8', 119)]\n",
            "[('X', 118), ('A', 1)]\n",
            "[('X', 118), ('A', 1)]\n",
            "[('123', 114), ('12', 5)] \n",
            "\n",
            "Список встречаемых номеров и их кол-во:\n",
            "[('Y618XX123', 111), ('618XX123', 13), ('Y618XX120', 10), ('Y618XX12', 5), ('H618XX123', 2), ('A414A1', 2), ('H618AA123', 1), ('426Y16', 1), ('618AX123', 1), ('A421A1A1', 1), ('A521A1A1', 1), ('A4214A1', 1), ('1XXA', 1), ('31XXA', 1), ('K4444P1H1', 1), ('A4445', 1), ('A4ATT111', 1), ('A5ETPA2', 1), ('A5A4AA31', 1), ('AAYT6', 1), ('5492', 1), ('25', 1), ('55O0', 1), ('545XM', 1), ('545X2', 1), ('545O0', 1), ('55O025', 1), ('5A504', 1), ('54550', 1), ('5A59', 1), ('5A0T9', 1), ('E55', 1), ('A0595', 1), ('4O94', 1), ('A44Y1', 1), ('55AH1', 1), ('MO59', 1), ('E179', 1), ('86O0', 1), ('249', 1), ('24H9', 1), ('55O99', 1), ('4HMHY', 1), ('4H9', 1), ('AA57710', 1), ('05X4', 1), ('4XXM', 1)] \n",
            "\n",
            "Список подходящих номеров:\n",
            "[('Y618XX123', 111), ('Y618XX12', 5), ('H618XX123', 2), ('H618AA123', 1)] \n",
            "\n",
            "ПРЕДПОЛАГАЕМЫЙ ОТВЕТ:  Y618XX123\n",
            "ПРАВИЛЬНЫЙ ОТВЕТ    :  Y618XX123 True\n",
            "\n",
            "\n",
            "\n",
            "/content/test/BB843260.MOV\n"
          ],
          "name": "stdout"
        },
        {
          "output_type": "display_data",
          "data": {
            "image/png": "[encoded data removed]",
            "text/plain": [
              "<Figure size 432x288 with 1 Axes>"
            ]
          },
          "metadata": {
            "tags": [],
            "needs_background": "light"
          }
        },
        {
          "output_type": "stream",
          "text": [
            "НЕ НАШЛИ НОМЕРОВ\n",
            "\n",
            "\n",
            "/content/test/H388PY123.MOV\n"
          ],
          "name": "stdout"
        },
        {
          "output_type": "display_data",
          "data": {
            "image/png": "[encoded data removed]",
            "text/plain": [
              "<Figure size 432x288 with 1 Axes>"
            ]
          },
          "metadata": {
            "tags": [],
            "needs_background": "light"
          }
        },
        {
          "output_type": "stream",
          "text": [
            " \n",
            "  всего изображений     | 152\n",
            "  ---------------------\n",
            "  найдено номеров       | 3\n",
            "  ---------------------\n",
            "  определенно правильно | 2\n",
            "  ---------------------\n",
            "  процент правильности  | 1.315789 %\n",
            "  ---------------------\n",
            "  процент правильно     |\n",
            "  детектированных       | 66.666667 %\n",
            "  из найденных          |\n",
            "  \n",
            "Варианты и кол-во\n",
            "[('H', 2)]\n",
            "[('3', 2)]\n",
            "[('8', 2)]\n",
            "[('8', 2)]\n",
            "[('P', 2)]\n",
            "[('Y', 2)]\n",
            "[('123', 2)] \n",
            "\n",
            "Список встречаемых номеров и их кол-во:\n",
            "[('H388PY123', 2), ('H388PY112', 1)] \n",
            "\n",
            "Список подходящих номеров:\n",
            "[('H388PY123', 2)] \n",
            "\n",
            "ПРЕДПОЛАГАЕМЫЙ ОТВЕТ:  H388PY123\n",
            "ПРАВИЛЬНЫЙ ОТВЕТ    :  H388PY123 True\n",
            "\n",
            "\n",
            "\n",
            "/content/test/H755XC93.MOV\n"
          ],
          "name": "stdout"
        },
        {
          "output_type": "display_data",
          "data": {
            "image/png": "[encoded data removed]",
            "text/plain": [
              "<Figure size 432x288 with 1 Axes>"
            ]
          },
          "metadata": {
            "tags": [],
            "needs_background": "light"
          }
        },
        {
          "output_type": "stream",
          "text": [
            " \n",
            "  всего изображений     | 25\n",
            "  ---------------------\n",
            "  найдено номеров       | 21\n",
            "  ---------------------\n",
            "  определенно правильно | 2\n",
            "  ---------------------\n",
            "  процент правильности  | 8.000000 %\n",
            "  ---------------------\n",
            "  процент правильно     |\n",
            "  детектированных       | 9.523810 %\n",
            "  из найденных          |\n",
            "  \n",
            "Варианты и кол-во\n",
            "[('H', 10)]\n",
            "[('7', 10)]\n",
            "[('5', 10)]\n",
            "[('5', 10)]\n",
            "[('X', 9), ('Y', 1)]\n",
            "[('C', 5), ('K', 2), ('O', 1), ('T', 1), ('E', 1)]\n",
            "[('93', 4), ('10', 2), ('97', 2), ('91', 1), ('17', 1)] \n",
            "\n",
            "Список встречаемых номеров и их кол-во:\n",
            "[('H755X10', 2), ('H755XC97', 2), ('H755XC93', 2), ('H755Y11', 1), ('H755X90', 1), ('H755X18', 1), ('H755XK10', 1), ('H755XO91', 1), ('H755XK17', 1), ('H755XC10', 1), ('A755XYO93', 1), ('H755YT93', 1), ('H755XE93', 1), ('AH755E93', 1), ('H755BE337', 1), ('A726BE333', 1), ('T55A330', 1), ('AA754EET3', 1)] \n",
            "\n",
            "Список подходящих номеров:\n",
            "[('H755XC97', 2), ('H755XC93', 2), ('H755XK10', 1), ('H755XO91', 1), ('H755XK17', 1), ('H755XC10', 1), ('H755YT93', 1), ('H755XE93', 1)] \n",
            "\n",
            "ПРЕДПОЛАГАЕМЫЙ ОТВЕТ:  H755XC93\n",
            "ПРАВИЛЬНЫЙ ОТВЕТ    :  H755XC93 True\n",
            "\n",
            "\n",
            "\n",
            "/content/test/HH093960.MOV\n"
          ],
          "name": "stdout"
        },
        {
          "output_type": "display_data",
          "data": {
            "image/png": "[encoded data removed]",
            "text/plain": [
              "<Figure size 432x288 with 1 Axes>"
            ]
          },
          "metadata": {
            "tags": [],
            "needs_background": "light"
          }
        },
        {
          "output_type": "stream",
          "text": [
            " \n",
            "  всего изображений     | 79\n",
            "  ---------------------\n",
            "  найдено номеров       | 1\n",
            "  ---------------------\n",
            "  определенно правильно | 1\n",
            "  ---------------------\n",
            "  процент правильности  | 1.265823 %\n",
            "  ---------------------\n",
            "  процент правильно     |\n",
            "  детектированных       | 100.000000 %\n",
            "  из найденных          |\n",
            "  \n",
            "Варианты и кол-во\n",
            "[('H', 1)]\n",
            "[('H', 1)]\n",
            "[('0', 1)]\n",
            "[('9', 1)]\n",
            "[('3', 1)]\n",
            "[('9', 1)]\n",
            "[('60', 1)] \n",
            "\n",
            "Список встречаемых номеров и их кол-во:\n",
            "[('HH093960', 1)] \n",
            "\n",
            "Список подходящих номеров:\n",
            "[('HH093960', 1)] \n",
            "\n",
            "ПРЕДПОЛАГАЕМЫЙ ОТВЕТ:  HH093960\n",
            "ПРАВИЛЬНЫЙ ОТВЕТ    :  HH093960 True\n",
            "\n",
            "\n",
            "\n"
          ],
          "name": "stdout"
        }
      ]
    },
    {
      "cell_type": "code",
      "metadata": {
        "id": "QtxSywnIookp",
        "colab_type": "code",
        "colab": {
          "base_uri": "https://localhost:8080/",
          "height": 238
        },
        "outputId": "de3e84b9-98e7-44df-fb42-84455e155705"
      },
      "source": [
        "print(\n",
        "\"\"\"\n",
        "Всего машин                 | %d\n",
        "------------------------------------\n",
        "Правильно нашли             | %d\n",
        "------------------------------------\n",
        "Неправильно нашли           | %d\n",
        "------------------------------------\n",
        "Вообще не нашли             | %d\n",
        "------------------------------------\n",
        "Точность                    | %f %%\n",
        "------------------------------------\n",
        "Точность определения номера | %f %%\n",
        "\"\"\" %(\n",
        "    len(pic),\n",
        "    result_right_detect_count,\n",
        "    result_wrong_detect_count,\n",
        "    non_detected,\n",
        "    result_right_detect_count/len(pic)*100,\n",
        "    result_right_detect_count/(len(pic)-non_detected)*100\n",
        "    ))"
      ],
      "execution_count": 122,
      "outputs": [
        {
          "output_type": "stream",
          "text": [
            "\n",
            "Всего машин                 | 18\n",
            "------------------------------------\n",
            "Правильно нашли             | 14\n",
            "------------------------------------\n",
            "Неправильно нашли           | 3\n",
            "------------------------------------\n",
            "Вообще не нашли             | 1\n",
            "------------------------------------\n",
            "Точность                    | 77.777778 %\n",
            "------------------------------------\n",
            "Точность определения номера | 82.352941 %\n",
            "\n"
          ],
          "name": "stdout"
        }
      ]
    }
  ]
}